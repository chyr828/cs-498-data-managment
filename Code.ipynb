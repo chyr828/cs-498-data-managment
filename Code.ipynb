{
 "cells": [
  {
   "cell_type": "code",
   "execution_count": 1,
   "id": "c381b7dd",
   "metadata": {
    "_cell_guid": "b1076dfc-b9ad-4769-8c92-a6c4dae69d19",
    "_uuid": "8f2839f25d086af736a60e9eeb907d3b93b6e0e5",
    "execution": {
     "iopub.execute_input": "2022-02-03T06:33:02.182318Z",
     "iopub.status.busy": "2022-02-03T06:33:02.181345Z",
     "iopub.status.idle": "2022-02-03T06:33:03.074395Z",
     "shell.execute_reply": "2022-02-03T06:33:03.075014Z",
     "shell.execute_reply.started": "2022-02-03T05:45:38.692502Z"
    },
    "papermill": {
     "duration": 0.911872,
     "end_time": "2022-02-03T06:33:03.075342",
     "exception": false,
     "start_time": "2022-02-03T06:33:02.163470",
     "status": "completed"
    },
    "tags": []
   },
   "outputs": [
    {
     "name": "stdout",
     "output_type": "stream",
     "text": [
      "/kaggle/input/elon-musk-tweets-2010-2021/2011.csv\n",
      "/kaggle/input/elon-musk-tweets-2010-2021/2013.csv\n",
      "/kaggle/input/elon-musk-tweets-2010-2021/2015.csv\n",
      "/kaggle/input/elon-musk-tweets-2010-2021/2014.csv\n",
      "/kaggle/input/elon-musk-tweets-2010-2021/2021.csv\n",
      "/kaggle/input/elon-musk-tweets-2010-2021/2017.csv\n",
      "/kaggle/input/elon-musk-tweets-2010-2021/2019.csv\n",
      "/kaggle/input/elon-musk-tweets-2010-2021/2020.csv\n",
      "/kaggle/input/elon-musk-tweets-2010-2021/2012.csv\n",
      "/kaggle/input/elon-musk-tweets-2010-2021/2010.csv\n",
      "/kaggle/input/elon-musk-tweets-2010-2021/2018.csv\n",
      "/kaggle/input/elon-musk-tweets-2010-2021/2016.csv\n",
      "       Unnamed: 0                  id     conversation_id    created_at  \\\n",
      "0               0  152153637639028736  152151847614943233  1.325111e+12   \n",
      "1               1  151809315026636800  151809315026636800  1.325029e+12   \n",
      "2               2  151338939389706242  151338939389706242  1.324917e+12   \n",
      "3               3  151337237429239808  151337237429239808  1.324917e+12   \n",
      "4               4  151327734843445249  151327734843445249  1.324914e+12   \n",
      "...           ...                 ...                 ...           ...   \n",
      "43069        1995  142881284019060736  142881284019060736  1.322901e+12   \n",
      "43070        1996  142880871391838208  142880871391838208  1.322900e+12   \n",
      "43071        1997  142188458125963264  142188458125963264  1.322735e+12   \n",
      "43072        1998  142179928203460608  142179928203460608  1.322733e+12   \n",
      "43073        1999         15434727182         15434727182  1.275676e+12   \n",
      "\n",
      "                      date  timezone  place  \\\n",
      "0      2011-12-28 22:27:08         0    NaN   \n",
      "1      2011-12-27 23:38:55         0    NaN   \n",
      "2      2011-12-26 16:29:50         0    NaN   \n",
      "3      2011-12-26 16:23:04         0    NaN   \n",
      "4      2011-12-26 15:45:18         0    NaN   \n",
      "...                    ...       ...    ...   \n",
      "43069  2011-12-03 08:22:07         0    NaN   \n",
      "43070  2011-12-03 08:20:28         0    NaN   \n",
      "43071  2011-12-01 10:29:04         0    NaN   \n",
      "43072  2011-12-01 09:55:11         0    NaN   \n",
      "43073  2010-06-04 18:31:57         0    NaN   \n",
      "\n",
      "                                                   tweet language hashtags  \\\n",
      "0                                   @TheOnion So true :)       en       []   \n",
      "1      If you ever wanted to know the *real* truth ab...       en       []   \n",
      "2      Walked around a neighborhood recently rebuilt ...       en       []   \n",
      "3      It was Xmas, so we brought presents for the ki...       en       []   \n",
      "4      Met with UNICEF, Doctors Without Borders and A...       en       []   \n",
      "...                                                  ...      ...      ...   \n",
      "43069                  That was a total non sequitur btw       en       []   \n",
      "43070  Great Voltaire quote, arguably better than Twa...       en       []   \n",
      "43071  I made the volume on the Model S  http://t.co/...       en       []   \n",
      "43072  Went to Iceland on Sat to ride bumper cars on ...       en       []   \n",
      "43073  Please ignore prior tweets, as that was someon...       en       []   \n",
      "\n",
      "       ... geo  source  user_rt_id user_rt retweet_id  reply_to  retweet_date  \\\n",
      "0      ... NaN     NaN         NaN     NaN        NaN        []           NaN   \n",
      "1      ... NaN     NaN         NaN     NaN        NaN        []           NaN   \n",
      "2      ... NaN     NaN         NaN     NaN        NaN        []           NaN   \n",
      "3      ... NaN     NaN         NaN     NaN        NaN        []           NaN   \n",
      "4      ... NaN     NaN         NaN     NaN        NaN        []           NaN   \n",
      "...    ...  ..     ...         ...     ...        ...       ...           ...   \n",
      "43069  ... NaN     NaN         NaN     NaN        NaN        []           NaN   \n",
      "43070  ... NaN     NaN         NaN     NaN        NaN        []           NaN   \n",
      "43071  ... NaN     NaN         NaN     NaN        NaN        []           NaN   \n",
      "43072  ... NaN     NaN         NaN     NaN        NaN        []           NaN   \n",
      "43073  ... NaN     NaN         NaN     NaN        NaN        []           NaN   \n",
      "\n",
      "      translate trans_src trans_dest  \n",
      "0           NaN       NaN        NaN  \n",
      "1           NaN       NaN        NaN  \n",
      "2           NaN       NaN        NaN  \n",
      "3           NaN       NaN        NaN  \n",
      "4           NaN       NaN        NaN  \n",
      "...         ...       ...        ...  \n",
      "43069       NaN       NaN        NaN  \n",
      "43070       NaN       NaN        NaN  \n",
      "43071       NaN       NaN        NaN  \n",
      "43072       NaN       NaN        NaN  \n",
      "43073       NaN       NaN        NaN  \n",
      "\n",
      "[43074 rows x 39 columns]\n"
     ]
    }
   ],
   "source": [
    "# This Python 3 environment comes with many helpful analytics libraries installed\n",
    "# It is defined by the kaggle/python Docker image: https://github.com/kaggle/docker-python\n",
    "# For example, here's several helpful packages to load\n",
    "\n",
    "import numpy as np # linear algebra\n",
    "import pandas as pd # data processing, CSV file I/O (e.g. pd.read_csv)\n",
    "\n",
    "# Input data files are available in the read-only \"../input/\" directory\n",
    "# For example, running this (by clicking run or pressing Shift+Enter) will list all files under the input directory\n",
    "\n",
    "import os\n",
    "for dirname, _, filenames in os.walk('/kaggle/input'):\n",
    "    for filename in filenames:\n",
    "        print(os.path.join(dirname, filename))\n",
    "        \n",
    "        \n",
    "\n",
    "\n",
    "import glob\n",
    "\n",
    "\n",
    "# merging the files\n",
    "joined_files = os.path.join(\"/kaggle/input/elon-musk-tweets-2010-2021/\", \"20*.csv\")\n",
    "\n",
    "# A list of all joined files is returned\n",
    "joined_list = glob.glob(joined_files)\n",
    "\n",
    "# Finally, the files are joined\n",
    "df = pd.concat(map(pd.read_csv, joined_list), ignore_index=True)\n",
    "print(df)\n",
    "\n",
    "\n",
    "        \n",
    "        \n",
    "    \n",
    "    \n",
    "          \n",
    "\n",
    "# You can write up to 20GB to the current directory (/kaggle/working/) that gets preserved as output when you create a version using \"Save & Run All\" \n",
    "# You can also write temporary files to /kaggle/temp/, but they won't be saved outside of the current session"
   ]
  },
  {
   "cell_type": "code",
   "execution_count": 2,
   "id": "da3ed5ef",
   "metadata": {
    "execution": {
     "iopub.execute_input": "2022-02-03T06:33:03.093034Z",
     "iopub.status.busy": "2022-02-03T06:33:03.092396Z",
     "iopub.status.idle": "2022-02-03T06:33:03.096507Z",
     "shell.execute_reply": "2022-02-03T06:33:03.097024Z",
     "shell.execute_reply.started": "2022-02-03T05:45:39.642179Z"
    },
    "papermill": {
     "duration": 0.014274,
     "end_time": "2022-02-03T06:33:03.097195",
     "exception": false,
     "start_time": "2022-02-03T06:33:03.082921",
     "status": "completed"
    },
    "tags": []
   },
   "outputs": [],
   "source": [
    "final_df = pd.DataFrame() \n",
    "\n",
    "        \n",
    "        \n",
    "        "
   ]
  },
  {
   "cell_type": "code",
   "execution_count": null,
   "id": "bedc5452",
   "metadata": {
    "papermill": {
     "duration": 0.006282,
     "end_time": "2022-02-03T06:33:03.109850",
     "exception": false,
     "start_time": "2022-02-03T06:33:03.103568",
     "status": "completed"
    },
    "tags": []
   },
   "outputs": [],
   "source": [
    "\n"
   ]
  },
  {
   "cell_type": "code",
   "execution_count": 3,
   "id": "626c144d",
   "metadata": {
    "execution": {
     "iopub.execute_input": "2022-02-03T06:33:03.126186Z",
     "iopub.status.busy": "2022-02-03T06:33:03.125571Z",
     "iopub.status.idle": "2022-02-03T06:33:03.137573Z",
     "shell.execute_reply": "2022-02-03T06:33:03.138062Z"
    },
    "papermill": {
     "duration": 0.022008,
     "end_time": "2022-02-03T06:33:03.138237",
     "exception": false,
     "start_time": "2022-02-03T06:33:03.116229",
     "status": "completed"
    },
    "tags": []
   },
   "outputs": [
    {
     "data": {
      "text/plain": [
       "14705.224845614524"
      ]
     },
     "execution_count": 3,
     "metadata": {},
     "output_type": "execute_result"
    }
   ],
   "source": [
    "\n",
    "df.nlikes.sum()\n",
    "df.nlikes.count()\n",
    "df.nlikes.sum()/df.nlikes.count()"
   ]
  },
  {
   "cell_type": "code",
   "execution_count": 4,
   "id": "c72d73b9",
   "metadata": {
    "execution": {
     "iopub.execute_input": "2022-02-03T06:33:03.158839Z",
     "iopub.status.busy": "2022-02-03T06:33:03.157753Z",
     "iopub.status.idle": "2022-02-03T06:33:03.163276Z",
     "shell.execute_reply": "2022-02-03T06:33:03.163822Z",
     "shell.execute_reply.started": "2022-02-03T05:45:39.745564Z"
    },
    "papermill": {
     "duration": 0.018887,
     "end_time": "2022-02-03T06:33:03.163998",
     "exception": false,
     "start_time": "2022-02-03T06:33:03.145111",
     "status": "completed"
    },
    "tags": []
   },
   "outputs": [
    {
     "data": {
      "text/plain": [
       "338864.2596461903"
      ]
     },
     "execution_count": 4,
     "metadata": {},
     "output_type": "execute_result"
    }
   ],
   "source": [
    "((df.nlikes.sum() + df.nreplies.sum() + df.nretweets.sum())/0.05)/43074"
   ]
  },
  {
   "cell_type": "code",
   "execution_count": 5,
   "id": "0dd6e455",
   "metadata": {
    "execution": {
     "iopub.execute_input": "2022-02-03T06:33:03.186288Z",
     "iopub.status.busy": "2022-02-03T06:33:03.181189Z",
     "iopub.status.idle": "2022-02-03T06:33:03.244459Z",
     "shell.execute_reply": "2022-02-03T06:33:03.244923Z"
    },
    "papermill": {
     "duration": 0.074106,
     "end_time": "2022-02-03T06:33:03.245103",
     "exception": false,
     "start_time": "2022-02-03T06:33:03.170997",
     "status": "completed"
    },
    "tags": []
   },
   "outputs": [
    {
     "data": {
      "text/plain": [
       "102310496608"
      ]
     },
     "execution_count": 5,
     "metadata": {},
     "output_type": "execute_result"
    }
   ],
   "source": [
    "((43074-(df[df.photos == '[]'].shape[0]))*5*1000000)/43074\n",
    "\n",
    "338864 * 301922\n"
   ]
  },
  {
   "cell_type": "code",
   "execution_count": 6,
   "id": "00f8a6e4",
   "metadata": {
    "execution": {
     "iopub.execute_input": "2022-02-03T06:33:03.265206Z",
     "iopub.status.busy": "2022-02-03T06:33:03.264499Z",
     "iopub.status.idle": "2022-02-03T06:33:03.269241Z",
     "shell.execute_reply": "2022-02-03T06:33:03.269853Z",
     "shell.execute_reply.started": "2022-02-03T06:03:06.331924Z"
    },
    "papermill": {
     "duration": 0.017655,
     "end_time": "2022-02-03T06:33:03.270029",
     "exception": false,
     "start_time": "2022-02-03T06:33:03.252374",
     "status": "completed"
    },
    "tags": []
   },
   "outputs": [
    {
     "data": {
      "text/plain": [
       "2559.665951178451"
      ]
     },
     "execution_count": 6,
     "metadata": {},
     "output_type": "execute_result"
    }
   ],
   "source": [
    "((df.nlikes.sum() + df.nreplies.sum() + df.nretweets.sum())/0.05)/(11*12*30*24*60)"
   ]
  },
  {
   "cell_type": "code",
   "execution_count": 7,
   "id": "12efe58e",
   "metadata": {
    "execution": {
     "iopub.execute_input": "2022-02-03T06:33:03.289163Z",
     "iopub.status.busy": "2022-02-03T06:33:03.287995Z",
     "iopub.status.idle": "2022-02-03T06:33:03.293929Z",
     "shell.execute_reply": "2022-02-03T06:33:03.294382Z"
    },
    "papermill": {
     "duration": 0.017079,
     "end_time": "2022-02-03T06:33:03.294710",
     "exception": false,
     "start_time": "2022-02-03T06:33:03.277631",
     "status": "completed"
    },
    "tags": []
   },
   "outputs": [
    {
     "data": {
      "text/plain": [
       "772618398"
      ]
     },
     "execution_count": 7,
     "metadata": {},
     "output_type": "execute_result"
    }
   ],
   "source": [
    "2559*301922"
   ]
  }
 ],
 "metadata": {
  "kernelspec": {
   "display_name": "Python 3",
   "language": "python",
   "name": "python3"
  },
  "language_info": {
   "codemirror_mode": {
    "name": "ipython",
    "version": 3
   },
   "file_extension": ".py",
   "mimetype": "text/x-python",
   "name": "python",
   "nbconvert_exporter": "python",
   "pygments_lexer": "ipython3",
   "version": "3.7.12"
  },
  "papermill": {
   "default_parameters": {},
   "duration": 10.98003,
   "end_time": "2022-02-03T06:33:03.913166",
   "environment_variables": {},
   "exception": null,
   "input_path": "__notebook__.ipynb",
   "output_path": "__notebook__.ipynb",
   "parameters": {},
   "start_time": "2022-02-03T06:32:52.933136",
   "version": "2.3.3"
  }
 },
 "nbformat": 4,
 "nbformat_minor": 5
}
